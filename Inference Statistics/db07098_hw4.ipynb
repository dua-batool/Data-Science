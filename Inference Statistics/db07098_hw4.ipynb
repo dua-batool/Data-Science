{
 "cells": [
  {
   "cell_type": "markdown",
   "id": "090dad89-b0b2-436b-8be9-42e50878ee63",
   "metadata": {},
   "source": [
    "## Homework 4\n",
    "\n",
    "### Dua Batool\n",
    "### db07098@st.habib.edu.pk"
   ]
  },
  {
   "cell_type": "code",
   "execution_count": 1,
   "id": "db86e09c-83b9-4368-bcde-0038f8044210",
   "metadata": {
    "tags": []
   },
   "outputs": [],
   "source": [
    "import pandas as pd\n",
    "import numpy as np\n",
    "import seaborn as sns\n",
    "import matplotlib.pyplot as plt\n",
    "from scipy import stats"
   ]
  },
  {
   "cell_type": "code",
   "execution_count": 2,
   "id": "b1f5374d-d23e-4546-940f-dbb24de94f83",
   "metadata": {
    "tags": []
   },
   "outputs": [],
   "source": [
    "df = pd.read_csv('EmployeeAttrition.csv')"
   ]
  },
  {
   "cell_type": "code",
   "execution_count": 3,
   "id": "b5d83b56-54d1-4879-adb2-f1f52cee890b",
   "metadata": {
    "tags": []
   },
   "outputs": [
    {
     "data": {
      "text/html": [
       "<div>\n",
       "<style scoped>\n",
       "    .dataframe tbody tr th:only-of-type {\n",
       "        vertical-align: middle;\n",
       "    }\n",
       "\n",
       "    .dataframe tbody tr th {\n",
       "        vertical-align: top;\n",
       "    }\n",
       "\n",
       "    .dataframe thead th {\n",
       "        text-align: right;\n",
       "    }\n",
       "</style>\n",
       "<table border=\"1\" class=\"dataframe\">\n",
       "  <thead>\n",
       "    <tr style=\"text-align: right;\">\n",
       "      <th></th>\n",
       "      <th>Age</th>\n",
       "      <th>BusinessTravel</th>\n",
       "      <th>DailyRate</th>\n",
       "      <th>Department</th>\n",
       "      <th>DistanceFromHome</th>\n",
       "      <th>Education</th>\n",
       "      <th>EducationField</th>\n",
       "      <th>EnvironmentSatisfaction</th>\n",
       "      <th>Gender</th>\n",
       "      <th>HourlyRate</th>\n",
       "      <th>...</th>\n",
       "      <th>StandardHours</th>\n",
       "      <th>StockOptionLevel</th>\n",
       "      <th>TotalWorkingYears</th>\n",
       "      <th>TrainingTimesLastYear</th>\n",
       "      <th>WorkLifeBalance</th>\n",
       "      <th>YearsAtCompany</th>\n",
       "      <th>YearsInCurrentRole</th>\n",
       "      <th>YearsSinceLastPromotion</th>\n",
       "      <th>YearsWithCurrManager</th>\n",
       "      <th>Attrition</th>\n",
       "    </tr>\n",
       "  </thead>\n",
       "  <tbody>\n",
       "    <tr>\n",
       "      <th>0</th>\n",
       "      <td>41</td>\n",
       "      <td>Travel_Rarely</td>\n",
       "      <td>1102</td>\n",
       "      <td>Sales</td>\n",
       "      <td>1</td>\n",
       "      <td>2</td>\n",
       "      <td>Life Sciences</td>\n",
       "      <td>2</td>\n",
       "      <td>Female</td>\n",
       "      <td>94</td>\n",
       "      <td>...</td>\n",
       "      <td>80</td>\n",
       "      <td>0</td>\n",
       "      <td>8</td>\n",
       "      <td>0</td>\n",
       "      <td>1</td>\n",
       "      <td>6</td>\n",
       "      <td>4</td>\n",
       "      <td>0</td>\n",
       "      <td>5</td>\n",
       "      <td>Yes</td>\n",
       "    </tr>\n",
       "    <tr>\n",
       "      <th>1</th>\n",
       "      <td>49</td>\n",
       "      <td>Travel_Frequently</td>\n",
       "      <td>279</td>\n",
       "      <td>Research &amp; Development</td>\n",
       "      <td>8</td>\n",
       "      <td>1</td>\n",
       "      <td>Life Sciences</td>\n",
       "      <td>3</td>\n",
       "      <td>Male</td>\n",
       "      <td>61</td>\n",
       "      <td>...</td>\n",
       "      <td>80</td>\n",
       "      <td>1</td>\n",
       "      <td>10</td>\n",
       "      <td>3</td>\n",
       "      <td>3</td>\n",
       "      <td>10</td>\n",
       "      <td>7</td>\n",
       "      <td>1</td>\n",
       "      <td>7</td>\n",
       "      <td>No</td>\n",
       "    </tr>\n",
       "    <tr>\n",
       "      <th>2</th>\n",
       "      <td>37</td>\n",
       "      <td>Travel_Rarely</td>\n",
       "      <td>1373</td>\n",
       "      <td>Research &amp; Development</td>\n",
       "      <td>2</td>\n",
       "      <td>2</td>\n",
       "      <td>Other</td>\n",
       "      <td>4</td>\n",
       "      <td>Male</td>\n",
       "      <td>92</td>\n",
       "      <td>...</td>\n",
       "      <td>80</td>\n",
       "      <td>0</td>\n",
       "      <td>7</td>\n",
       "      <td>3</td>\n",
       "      <td>3</td>\n",
       "      <td>0</td>\n",
       "      <td>0</td>\n",
       "      <td>0</td>\n",
       "      <td>0</td>\n",
       "      <td>Yes</td>\n",
       "    </tr>\n",
       "    <tr>\n",
       "      <th>3</th>\n",
       "      <td>33</td>\n",
       "      <td>Travel_Frequently</td>\n",
       "      <td>1392</td>\n",
       "      <td>Research &amp; Development</td>\n",
       "      <td>3</td>\n",
       "      <td>4</td>\n",
       "      <td>Life Sciences</td>\n",
       "      <td>4</td>\n",
       "      <td>Female</td>\n",
       "      <td>56</td>\n",
       "      <td>...</td>\n",
       "      <td>80</td>\n",
       "      <td>0</td>\n",
       "      <td>8</td>\n",
       "      <td>3</td>\n",
       "      <td>3</td>\n",
       "      <td>8</td>\n",
       "      <td>7</td>\n",
       "      <td>3</td>\n",
       "      <td>0</td>\n",
       "      <td>No</td>\n",
       "    </tr>\n",
       "    <tr>\n",
       "      <th>4</th>\n",
       "      <td>27</td>\n",
       "      <td>Travel_Rarely</td>\n",
       "      <td>591</td>\n",
       "      <td>Research &amp; Development</td>\n",
       "      <td>2</td>\n",
       "      <td>1</td>\n",
       "      <td>Medical</td>\n",
       "      <td>1</td>\n",
       "      <td>Male</td>\n",
       "      <td>40</td>\n",
       "      <td>...</td>\n",
       "      <td>80</td>\n",
       "      <td>1</td>\n",
       "      <td>6</td>\n",
       "      <td>3</td>\n",
       "      <td>3</td>\n",
       "      <td>2</td>\n",
       "      <td>2</td>\n",
       "      <td>2</td>\n",
       "      <td>2</td>\n",
       "      <td>No</td>\n",
       "    </tr>\n",
       "  </tbody>\n",
       "</table>\n",
       "<p>5 rows × 32 columns</p>\n",
       "</div>"
      ],
      "text/plain": [
       "   Age     BusinessTravel  DailyRate              Department  \\\n",
       "0   41      Travel_Rarely       1102                   Sales   \n",
       "1   49  Travel_Frequently        279  Research & Development   \n",
       "2   37      Travel_Rarely       1373  Research & Development   \n",
       "3   33  Travel_Frequently       1392  Research & Development   \n",
       "4   27      Travel_Rarely        591  Research & Development   \n",
       "\n",
       "   DistanceFromHome  Education EducationField  EnvironmentSatisfaction  \\\n",
       "0                 1          2  Life Sciences                        2   \n",
       "1                 8          1  Life Sciences                        3   \n",
       "2                 2          2          Other                        4   \n",
       "3                 3          4  Life Sciences                        4   \n",
       "4                 2          1        Medical                        1   \n",
       "\n",
       "   Gender  HourlyRate  ...  StandardHours  StockOptionLevel TotalWorkingYears  \\\n",
       "0  Female          94  ...             80                 0                 8   \n",
       "1    Male          61  ...             80                 1                10   \n",
       "2    Male          92  ...             80                 0                 7   \n",
       "3  Female          56  ...             80                 0                 8   \n",
       "4    Male          40  ...             80                 1                 6   \n",
       "\n",
       "   TrainingTimesLastYear WorkLifeBalance  YearsAtCompany  YearsInCurrentRole  \\\n",
       "0                      0               1               6                   4   \n",
       "1                      3               3              10                   7   \n",
       "2                      3               3               0                   0   \n",
       "3                      3               3               8                   7   \n",
       "4                      3               3               2                   2   \n",
       "\n",
       "   YearsSinceLastPromotion YearsWithCurrManager  Attrition  \n",
       "0                        0                    5        Yes  \n",
       "1                        1                    7         No  \n",
       "2                        0                    0        Yes  \n",
       "3                        3                    0         No  \n",
       "4                        2                    2         No  \n",
       "\n",
       "[5 rows x 32 columns]"
      ]
     },
     "execution_count": 3,
     "metadata": {},
     "output_type": "execute_result"
    }
   ],
   "source": [
    "df.head()"
   ]
  },
  {
   "cell_type": "markdown",
   "id": "4b06b6e2-9dee-4d55-ad25-c72b04d74fe1",
   "metadata": {},
   "source": [
    "### Question 1:"
   ]
  },
  {
   "cell_type": "markdown",
   "id": "9eb205f8-6694-4323-9a93-116b485ee3dc",
   "metadata": {},
   "source": [
    "H0 (Null Hypothesis) = The monthly income of males is less than or equal to females.\n",
    "\n",
    "H1 (Alternative Hypothesis) = The monthly income of males is greater than females."
   ]
  },
  {
   "cell_type": "code",
   "execution_count": 4,
   "id": "7353b5f5-9e80-4647-b605-c91c0f65d9fb",
   "metadata": {
    "tags": []
   },
   "outputs": [],
   "source": [
    "male = df[(df['Gender']=='Male')]['MonthlyIncome']\n",
    "female = df[(df['Gender']=='Female')]['MonthlyIncome']"
   ]
  },
  {
   "cell_type": "code",
   "execution_count": 5,
   "id": "64fe2d97-6908-4a71-800e-1a2eecc7c954",
   "metadata": {
    "tags": []
   },
   "outputs": [
    {
     "data": {
      "text/plain": [
       "Ttest_indResult(statistic=-1.2212617308870655, pvalue=0.8889084827245606)"
      ]
     },
     "execution_count": 5,
     "metadata": {},
     "output_type": "execute_result"
    }
   ],
   "source": [
    "stats.ttest_ind(male, female, alternative='greater')"
   ]
  },
  {
   "cell_type": "markdown",
   "id": "384e8f7e-6cc4-42e3-b00b-7106113f18cb",
   "metadata": {},
   "source": [
    "The pvalue is greater than 0.05 so we would NOT reject the Null Hypothesis. \n",
    "\n",
    "The monthly income of males is less than or equal to females. We can justify this by saying that there is no gender discrimination in the workplace because of which the males are not getting paid more than the females. "
   ]
  },
  {
   "cell_type": "markdown",
   "id": "ff70b0ed-cf84-4a78-97e6-310477a52cf5",
   "metadata": {},
   "source": [
    "### Question 2"
   ]
  },
  {
   "cell_type": "markdown",
   "id": "5ca6ac89-217c-47d1-ae4a-df61ee8bc5f6",
   "metadata": {},
   "source": [
    "H0 (Null Hypothesis) = The WorkLifeBalance of males is greater than or equal to females.\n",
    "\n",
    "H1 (Alternative Hypothesis) = The WorkLifeBalance of males is less than females."
   ]
  },
  {
   "cell_type": "code",
   "execution_count": 6,
   "id": "3a26e46d-f873-4de2-85b4-42a72d593311",
   "metadata": {
    "tags": []
   },
   "outputs": [],
   "source": [
    "male = df[(df['Gender']=='Male')]['WorkLifeBalance']\n",
    "female = df[(df['Gender']=='Female')]['WorkLifeBalance']"
   ]
  },
  {
   "cell_type": "code",
   "execution_count": 7,
   "id": "66a55875-3bbc-4667-8bc0-43e44a20fb5b",
   "metadata": {
    "tags": []
   },
   "outputs": [
    {
     "data": {
      "text/plain": [
       "Ttest_indResult(statistic=-0.10546787956064164, pvalue=0.45800948246831286)"
      ]
     },
     "execution_count": 7,
     "metadata": {},
     "output_type": "execute_result"
    }
   ],
   "source": [
    "stats.ttest_ind(male, female, alternative='less')"
   ]
  },
  {
   "cell_type": "markdown",
   "id": "a3427765-a331-492f-b9cb-252795d10b7a",
   "metadata": {},
   "source": [
    "The pvalue is greater than 0.05 so we would NOT reject the Null Hypothesis.\n",
    "\n",
    "The WorkLifeBalance of males is greater than or equal to females. We can justify this by saying that males are better at managing both work and life than females as generally the males do not have other responsibilities (exculding work) like managing the household which the females have to do."
   ]
  },
  {
   "cell_type": "markdown",
   "id": "cf916f4f-8e1f-4d98-bde2-57dc460bbaa5",
   "metadata": {},
   "source": [
    "### Question 3"
   ]
  },
  {
   "cell_type": "markdown",
   "id": "e8153a09-d685-4dbd-a241-a42f880d7d04",
   "metadata": {},
   "source": [
    "H0 (Null Hypothesis) = The YearsAtCompany of Single is greater than or equal to married.\n",
    "\n",
    "H1 (Alternative Hypothesis) = The YearsAtCompany of Single is less than married."
   ]
  },
  {
   "cell_type": "code",
   "execution_count": 8,
   "id": "7e5c1fc1-88a8-4599-aab1-4aad929aa554",
   "metadata": {
    "tags": []
   },
   "outputs": [],
   "source": [
    "single = df[(df['MaritalStatus']=='Single')]['YearsAtCompany']\n",
    "married = df[(df['MaritalStatus']=='Married')]['YearsAtCompany']"
   ]
  },
  {
   "cell_type": "code",
   "execution_count": 9,
   "id": "ac2ae7d5-f045-4396-9f6d-b9d772261d89",
   "metadata": {
    "tags": []
   },
   "outputs": [
    {
     "data": {
      "text/plain": [
       "Ttest_indResult(statistic=-2.5589985737464476, pvalue=0.0053127663549315815)"
      ]
     },
     "execution_count": 9,
     "metadata": {},
     "output_type": "execute_result"
    }
   ],
   "source": [
    "stats.ttest_ind(single, married, alternative='less')"
   ]
  },
  {
   "cell_type": "markdown",
   "id": "2a903fda-b8ee-4434-80f0-a5b868e15c8a",
   "metadata": {},
   "source": [
    "The pvalue is less than 0.05 so we would reject the Null Hypothesis.\n",
    "\n",
    "The YearsAtCompany of Single is less than married. We can justify this by saying that the married prefer to remain at the same company while the singles prefer to shift to other companies or jobs."
   ]
  },
  {
   "cell_type": "markdown",
   "id": "1d646915-6ae8-4beb-b54a-7bab81a94b62",
   "metadata": {},
   "source": [
    "### Question 4"
   ]
  },
  {
   "cell_type": "markdown",
   "id": "60a98e21-1c78-47d7-b281-812c9de1aec6",
   "metadata": {},
   "source": [
    "H0 (Null Hypothesis) = The EnvironmentalSatisfaction of Attrition = Yes is greater than or equal to Attrition = No\n",
    "\n",
    "H1 (Alternate Hypothesis) = The EnvironmentalSatisfaction of Attrition = Yes is less than Attrition = No"
   ]
  },
  {
   "cell_type": "code",
   "execution_count": 10,
   "id": "5d797cba-0221-4033-a1e4-ce5df2ed17de",
   "metadata": {
    "tags": []
   },
   "outputs": [],
   "source": [
    "yes = df[(df['Attrition']=='Yes')]['EnvironmentSatisfaction']\n",
    "no = df[(df['Attrition']=='No')]['EnvironmentSatisfaction']"
   ]
  },
  {
   "cell_type": "code",
   "execution_count": 11,
   "id": "602e72e9-d66a-447a-a5f8-b459336df39f",
   "metadata": {
    "tags": []
   },
   "outputs": [
    {
     "data": {
      "text/plain": [
       "Ttest_indResult(statistic=-3.9818600026818496, pvalue=3.58616927468443e-05)"
      ]
     },
     "execution_count": 11,
     "metadata": {},
     "output_type": "execute_result"
    }
   ],
   "source": [
    "stats.ttest_ind(yes, no, alternative='less')"
   ]
  },
  {
   "cell_type": "markdown",
   "id": "eff5a287-5132-4c3d-936f-e64a261332d7",
   "metadata": {},
   "source": [
    "The pvalue is less than 0.05 so we would reject the Null Hypothesis.\n",
    "\n",
    "The EnvironmentalSatisfaction of Attrition = Yes is less than Attrition = No. We can justify this by saying that the employees who left the company are not as satisfied with environment as the employees who didn't."
   ]
  },
  {
   "cell_type": "markdown",
   "id": "1a421c09-80b7-48e1-b1c1-a282509f9066",
   "metadata": {},
   "source": [
    "### Question 5"
   ]
  },
  {
   "cell_type": "markdown",
   "id": "9d1d9981-667a-47d5-982a-c52a66932cb3",
   "metadata": {},
   "source": [
    "H0 (Null Hypothesis) = The MonthlyIncome of Manager is less than or equal to Laboratory Technician\n",
    "\n",
    "H1 (Alternate Hypothesis) = The MonthlyIncome of Manager is greater than Laboratory Technician"
   ]
  },
  {
   "cell_type": "code",
   "execution_count": 12,
   "id": "60fb153f-fa75-46f3-a172-3c2c21a3ccb0",
   "metadata": {
    "tags": []
   },
   "outputs": [],
   "source": [
    "manager = df[(df['JobRole']=='Manager')]['MonthlyIncome']\n",
    "tech = df[(df['JobRole']=='Laboratory Technician')]['MonthlyIncome']"
   ]
  },
  {
   "cell_type": "code",
   "execution_count": 13,
   "id": "c5b201d6-a1de-47af-af63-e67b63f4ac2e",
   "metadata": {
    "tags": []
   },
   "outputs": [
    {
     "data": {
      "text/plain": [
       "Ttest_indResult(statistic=76.03317414634023, pvalue=9.971168334368433e-224)"
      ]
     },
     "execution_count": 13,
     "metadata": {},
     "output_type": "execute_result"
    }
   ],
   "source": [
    "stats.ttest_ind(manager, tech, alternative='greater')"
   ]
  },
  {
   "cell_type": "markdown",
   "id": "5c26bf9e-df25-4188-a4f5-36dca1f08f45",
   "metadata": {},
   "source": [
    "The pvalue is less than 0.05 so we would reject the Null Hypothesis.\n",
    "\n",
    "The MonthlyIncome of Manager is greater than Laboratory Technician. We can justify this by saying that the company values the managers more than the laboratory technicians as the managers are being paid more."
   ]
  },
  {
   "cell_type": "markdown",
   "id": "8c040abe-16cb-4a36-b164-f3765fe613ae",
   "metadata": {},
   "source": [
    "### Question 6"
   ]
  },
  {
   "cell_type": "markdown",
   "id": "67c7c1fd-cac6-4714-b9b7-3a6ded1b3513",
   "metadata": {},
   "source": [
    "H0 (Null Hypothesis) = The Department and Gender columns are not associated with each other (independent)\n",
    "\n",
    "H1 (Alternate Hypothesis) = The Department and Gender columns are associated with each other (not independent)"
   ]
  },
  {
   "cell_type": "code",
   "execution_count": 16,
   "id": "797a9052-bb9e-4455-8857-6550f06b4a79",
   "metadata": {
    "tags": []
   },
   "outputs": [],
   "source": [
    "ct = pd.crosstab(df['Department'],df['Gender'], margins=True)   # creating contingency table"
   ]
  },
  {
   "cell_type": "code",
   "execution_count": 17,
   "id": "f3594499-f88b-4026-935f-dcfbdec09528",
   "metadata": {
    "tags": []
   },
   "outputs": [
    {
     "data": {
      "text/html": [
       "<div>\n",
       "<style scoped>\n",
       "    .dataframe tbody tr th:only-of-type {\n",
       "        vertical-align: middle;\n",
       "    }\n",
       "\n",
       "    .dataframe tbody tr th {\n",
       "        vertical-align: top;\n",
       "    }\n",
       "\n",
       "    .dataframe thead th {\n",
       "        text-align: right;\n",
       "    }\n",
       "</style>\n",
       "<table border=\"1\" class=\"dataframe\">\n",
       "  <thead>\n",
       "    <tr style=\"text-align: right;\">\n",
       "      <th>Gender</th>\n",
       "      <th>Female</th>\n",
       "      <th>Male</th>\n",
       "      <th>All</th>\n",
       "    </tr>\n",
       "    <tr>\n",
       "      <th>Department</th>\n",
       "      <th></th>\n",
       "      <th></th>\n",
       "      <th></th>\n",
       "    </tr>\n",
       "  </thead>\n",
       "  <tbody>\n",
       "    <tr>\n",
       "      <th>Human Resources</th>\n",
       "      <td>20</td>\n",
       "      <td>43</td>\n",
       "      <td>63</td>\n",
       "    </tr>\n",
       "    <tr>\n",
       "      <th>Research &amp; Development</th>\n",
       "      <td>379</td>\n",
       "      <td>582</td>\n",
       "      <td>961</td>\n",
       "    </tr>\n",
       "    <tr>\n",
       "      <th>Sales</th>\n",
       "      <td>189</td>\n",
       "      <td>257</td>\n",
       "      <td>446</td>\n",
       "    </tr>\n",
       "    <tr>\n",
       "      <th>All</th>\n",
       "      <td>588</td>\n",
       "      <td>882</td>\n",
       "      <td>1470</td>\n",
       "    </tr>\n",
       "  </tbody>\n",
       "</table>\n",
       "</div>"
      ],
      "text/plain": [
       "Gender                  Female  Male   All\n",
       "Department                                \n",
       "Human Resources             20    43    63\n",
       "Research & Development     379   582   961\n",
       "Sales                      189   257   446\n",
       "All                        588   882  1470"
      ]
     },
     "execution_count": 17,
     "metadata": {},
     "output_type": "execute_result"
    }
   ],
   "source": [
    "ct"
   ]
  },
  {
   "cell_type": "code",
   "execution_count": 18,
   "id": "144e95a8-3994-4056-bf16-eb9b7808f863",
   "metadata": {
    "tags": []
   },
   "outputs": [],
   "source": [
    "arr = np.array([ct.iloc[0][0:].values,\n",
    "                  ct.iloc[1][0:].values])"
   ]
  },
  {
   "cell_type": "code",
   "execution_count": 19,
   "id": "e9095e60-1044-41db-a440-b992b6627a20",
   "metadata": {
    "tags": []
   },
   "outputs": [
    {
     "data": {
      "text/plain": [
       "Chi2ContingencyResult(statistic=1.4709421142834458, pvalue=0.47927963769548776, dof=2, expected_freq=array([[ 24.54785156,  38.45214844,  63.        ],\n",
       "       [374.45214844, 586.54785156, 961.        ]]))"
      ]
     },
     "execution_count": 19,
     "metadata": {},
     "output_type": "execute_result"
    }
   ],
   "source": [
    "stats.chi2_contingency(arr)"
   ]
  },
  {
   "cell_type": "code",
   "execution_count": 21,
   "id": "ee201af1-4ea8-445a-aa0c-e5a9921ece90",
   "metadata": {
    "tags": []
   },
   "outputs": [],
   "source": [
    "chi2, p, dof, ex = stats.chi2_contingency(arr)"
   ]
  },
  {
   "cell_type": "code",
   "execution_count": 22,
   "id": "81f8b051-d3ad-4ce3-b12f-a191170a5c2b",
   "metadata": {
    "tags": []
   },
   "outputs": [
    {
     "data": {
      "text/plain": [
       "1.4709421142834458"
      ]
     },
     "execution_count": 22,
     "metadata": {},
     "output_type": "execute_result"
    }
   ],
   "source": [
    "chi2"
   ]
  },
  {
   "cell_type": "code",
   "execution_count": 23,
   "id": "37a7ed0b-ba95-477e-a620-e79dadc386df",
   "metadata": {
    "tags": []
   },
   "outputs": [
    {
     "data": {
      "text/plain": [
       "0.47927963769548776"
      ]
     },
     "execution_count": 23,
     "metadata": {},
     "output_type": "execute_result"
    }
   ],
   "source": [
    "p"
   ]
  },
  {
   "cell_type": "markdown",
   "id": "09534f39-73bd-40e5-8af4-9385e70b1456",
   "metadata": {},
   "source": [
    "The pvalue is 0.47927963769548776. Since the pvalue is greater than 0.05, we will NOT reject the Null Hypothesis. \n",
    "\n",
    "The Department and Gender columns are not associated with each other as they are independent of each other."
   ]
  },
  {
   "cell_type": "code",
   "execution_count": null,
   "id": "df6b11f5-a16c-4e31-bd1e-583664a588a7",
   "metadata": {},
   "outputs": [],
   "source": []
  }
 ],
 "metadata": {
  "kernelspec": {
   "display_name": "Python 3 (ipykernel)",
   "language": "python",
   "name": "python3"
  },
  "language_info": {
   "codemirror_mode": {
    "name": "ipython",
    "version": 3
   },
   "file_extension": ".py",
   "mimetype": "text/x-python",
   "name": "python",
   "nbconvert_exporter": "python",
   "pygments_lexer": "ipython3",
   "version": "3.11.4"
  }
 },
 "nbformat": 4,
 "nbformat_minor": 5
}
